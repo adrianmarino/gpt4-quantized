{
 "cells": [
  {
   "cell_type": "code",
   "execution_count": 1,
   "id": "800a3c21-a774-4b35-8358-7d2b5788a22a",
   "metadata": {},
   "outputs": [],
   "source": [
    "from llama_cpp import Llama\n",
    "\n",
    "class GTP4:\n",
    "    def __init__(\n",
    "        self,\n",
    "        model_path = './gpt4all-lora-quantized-ggml.bin',\n",
    "        n_threads  = 24\n",
    "    ):\n",
    "        self.model = Llama(\n",
    "            model_path = model_path,\n",
    "            n_threads  = n_threads\n",
    "        )\n",
    "        \n",
    "    def predict(self, prompt, temperature = 0.5, max_len=512):\n",
    "        output = self.model(\n",
    "            prompt      = prompt,\n",
    "            max_tokens  = max_len - len(prompt),\n",
    "            echo        = False,\n",
    "            temperature = temperature\n",
    "        )\n",
    "        return output['choices'][0]['text'].replace('\\n', '')"
   ]
  },
  {
   "cell_type": "code",
   "execution_count": 2,
   "id": "7d9355e9-ddb7-44a4-9ed0-963bd8b84012",
   "metadata": {},
   "outputs": [
    {
     "name": "stderr",
     "output_type": "stream",
     "text": [
      "llama.cpp: loading model from ./gpt4all-lora-quantized-ggml.bin\n",
      "llama.cpp: can't use mmap because tensors are not aligned; convert to new format to avoid this\n",
      "llama_model_load_internal: format     = ggmf v1 (old version with no mmap support)\n",
      "llama_model_load_internal: n_vocab    = 32001\n",
      "llama_model_load_internal: n_ctx      = 512\n",
      "llama_model_load_internal: n_embd     = 4096\n",
      "llama_model_load_internal: n_mult     = 256\n",
      "llama_model_load_internal: n_head     = 32\n",
      "llama_model_load_internal: n_layer    = 32\n",
      "llama_model_load_internal: n_rot      = 128\n",
      "llama_model_load_internal: ftype      = 2 (mostly Q4_0)\n",
      "llama_model_load_internal: n_ff       = 11008\n",
      "llama_model_load_internal: n_parts    = 1\n",
      "llama_model_load_internal: model size = 7B\n",
      "llama_model_load_internal: ggml ctx size = 4113744.11 KB\n",
      "llama_model_load_internal: mem required  = 5809.33 MB (+ 1026.00 MB per state)\n",
      "...................................................................................................\n",
      ".\n",
      "llama_init_from_file: kv self size  =  256.00 MB\n",
      "AVX = 1 | AVX2 = 1 | AVX512 = 0 | FMA = 1 | NEON = 0 | ARM_FMA = 0 | F16C = 1 | FP16_VA = 0 | WASM_SIMD = 0 | BLAS = 0 | SSE3 = 1 | VSX = 0 | \n"
     ]
    }
   ],
   "source": [
    "model = GTP4()"
   ]
  },
  {
   "cell_type": "code",
   "execution_count": 8,
   "id": "eaddc5e1-ef47-489e-87b4-79704643ff69",
   "metadata": {},
   "outputs": [
    {
     "name": "stdout",
     "output_type": "stream",
     "text": [
      "CPU times: user 6min 49s, sys: 1.45 s, total: 6min 50s\n",
      "Wall time: 17.7 s\n"
     ]
    },
    {
     "name": "stderr",
     "output_type": "stream",
     "text": [
      "\n",
      "llama_print_timings:        load time =   267.86 ms\n",
      "llama_print_timings:      sample time =    52.60 ms /    98 runs   (    0.54 ms per run)\n",
      "llama_print_timings: prompt eval time =   328.97 ms /     7 tokens (   47.00 ms per token)\n",
      "llama_print_timings:        eval time = 17326.10 ms /    97 runs   (  178.62 ms per run)\n",
      "llama_print_timings:       total time = 17718.79 ms\n"
     ]
    },
    {
     "data": {
      "text/plain": [
       "'Overfitting, in machine learning, means that a model has been trained to fit the data too well, causing it to be too specific or narrow for use on other data. Overfitting can occur when a model is trained with excessive parameters and/or when it uses too much data to fit a particular dataset. In order to avoid overfitting, machine learning models should be carefully designed and tested against unseen data to ensure that they are accurate in their predictions.'"
      ]
     },
     "execution_count": 8,
     "metadata": {},
     "output_type": "execute_result"
    }
   ],
   "source": [
    "%%time\n",
    "model.predict('What is overfitting?')"
   ]
  }
 ],
 "metadata": {
  "kernelspec": {
   "display_name": "Python 3 (ipykernel)",
   "language": "python",
   "name": "python3"
  },
  "language_info": {
   "codemirror_mode": {
    "name": "ipython",
    "version": 3
   },
   "file_extension": ".py",
   "mimetype": "text/x-python",
   "name": "python",
   "nbconvert_exporter": "python",
   "pygments_lexer": "ipython3",
   "version": "3.8.16"
  },
  "widgets": {
   "application/vnd.jupyter.widget-state+json": {
    "state": {},
    "version_major": 2,
    "version_minor": 0
   }
  }
 },
 "nbformat": 4,
 "nbformat_minor": 5
}
